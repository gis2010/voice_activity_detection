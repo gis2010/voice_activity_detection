{
  "nbformat": 4,
  "nbformat_minor": 0,
  "metadata": {
    "colab": {
      "provenance": [],
      "include_colab_link": true
    },
    "kernelspec": {
      "name": "python3",
      "display_name": "Python 3"
    },
    "language_info": {
      "name": "python"
    }
  },
  "cells": [
    {
      "cell_type": "markdown",
      "metadata": {
        "id": "view-in-github",
        "colab_type": "text"
      },
      "source": [
        "<a href=\"https://colab.research.google.com/github/gis2010/voice_activity_detection/blob/master/7_Reasoning_Paradigms_in_HDC.ipynb\" target=\"_parent\"><img src=\"https://colab.research.google.com/assets/colab-badge.svg\" alt=\"Open In Colab\"/></a>"
      ]
    },
    {
      "cell_type": "markdown",
      "source": [
        "## [Accompanying talk](https://youtu.be/gv9IBpooQAg?t=8597)\n",
        "## [Slide deck](https://docs.google.com/presentation/d/1tJHTOdMAT6S_gQSsfkUMmbN6GTrVq5hCOofnM-cLr-c/edit?usp=sharing)"
      ],
      "metadata": {
        "id": "YDy6UWldBK9I"
      }
    },
    {
      "cell_type": "code",
      "source": [],
      "metadata": {
        "id": "J6q8Up9tsfh_"
      },
      "execution_count": null,
      "outputs": []
    },
    {
      "cell_type": "code",
      "source": [],
      "metadata": {
        "id": "PR-K8Aeusf79"
      },
      "execution_count": null,
      "outputs": []
    },
    {
      "cell_type": "code",
      "execution_count": null,
      "metadata": {
        "colab": {
          "base_uri": "https://localhost:8080/"
        },
        "id": "7gynnkfg1F-w",
        "outputId": "afa63c9e-664e-4739-b6b4-890df2221fae"
      },
      "outputs": [
        {
          "output_type": "stream",
          "name": "stdout",
          "text": [
            "Collecting bhv\n",
            "  Downloading bhv-1.4.1.tar.gz (123 kB)\n",
            "\u001b[?25l     \u001b[90m━━━━━━━━━━━━━━━━━━━━━━━━━━━━━━━━━━━━━━━━\u001b[0m \u001b[32m0.0/123.6 kB\u001b[0m \u001b[31m?\u001b[0m eta \u001b[36m-:--:--\u001b[0m\r\u001b[2K     \u001b[91m━━━━━━━━━━━━━━━━━━━━━━━━━━\u001b[0m\u001b[91m╸\u001b[0m\u001b[90m━━━━━━━━━━━━━\u001b[0m \u001b[32m81.9/123.6 kB\u001b[0m \u001b[31m2.3 MB/s\u001b[0m eta \u001b[36m0:00:01\u001b[0m\r\u001b[2K     \u001b[90m━━━━━━━━━━━━━━━━━━━━━━━━━━━━━━━━━━━━━━━━\u001b[0m \u001b[32m123.6/123.6 kB\u001b[0m \u001b[31m2.3 MB/s\u001b[0m eta \u001b[36m0:00:00\u001b[0m\n",
            "\u001b[?25h  Preparing metadata (setup.py) ... \u001b[?25l\u001b[?25hdone\n",
            "Building wheels for collected packages: bhv\n",
            "  Building wheel for bhv (setup.py) ... \u001b[?25l\u001b[?25hdone\n",
            "  Created wheel for bhv: filename=bhv-1.4.1-cp310-cp310-linux_x86_64.whl size=629394 sha256=ecf87d34870f6510b25ca20be63b637d98ab52d0808424f9fb8626821faca2b2\n",
            "  Stored in directory: /root/.cache/pip/wheels/41/35/50/aa34c6bbdfd012395777d94cbcf36fc120f518bd9052a45e46\n",
            "Successfully built bhv\n",
            "Installing collected packages: bhv\n",
            "Successfully installed bhv-1.4.1\n"
          ]
        }
      ],
      "source": [
        "!pip install bhv"
      ]
    },
    {
      "cell_type": "code",
      "source": [
        "from bhv.np import NumPyBoolBHV as BHV, NumPyBoolPermutation as Perm\n",
        "from random import random\n",
        "from math import hypot, atan2"
      ],
      "metadata": {
        "id": "J8ipJFil1Hx1"
      },
      "execution_count": null,
      "outputs": []
    },
    {
      "cell_type": "markdown",
      "source": [
        "## generalization by factoring (XOR factors over MAJORITY)"
      ],
      "metadata": {
        "id": "REQTmWGUxMaT"
      }
    },
    {
      "cell_type": "code",
      "source": [
        "Mary, home = BHV.nrand(2)\n",
        "walked, ran, drove, flew = BHV.nrand(4)"
      ],
      "metadata": {
        "id": "mGBlPmd4xLsQ"
      },
      "execution_count": null,
      "outputs": []
    },
    {
      "cell_type": "code",
      "source": [
        "datapoints = [\n",
        "    Mary ^ walked ^ home,\n",
        "    Mary ^ ran ^ home,\n",
        "    Mary ^ drove ^ home,\n",
        "]"
      ],
      "metadata": {
        "id": "Zm5ERtGox-wz"
      },
      "execution_count": null,
      "outputs": []
    },
    {
      "cell_type": "code",
      "source": [
        "transportation = BHV.majority([walked, ran, drove, flew])\n",
        "\n",
        "expected = Mary ^ transportation ^ home\n",
        "\n",
        "assert BHV.majority(datapoints).related(expected)\n",
        "assert BHV.majority(datapoints) == Mary ^ BHV.majority([walked, ran, drove]) ^ home"
      ],
      "metadata": {
        "id": "7QdBOnOoyG6I"
      },
      "execution_count": null,
      "outputs": []
    },
    {
      "cell_type": "markdown",
      "source": [
        "## reasoning by analogy (XOR can be used transitively)"
      ],
      "metadata": {
        "id": "dQ7044izy3_y"
      }
    },
    {
      "cell_type": "code",
      "source": [
        "name, capital_city, money = BHV.nrand(3)\n",
        "united_states, washington_dc, dollar = BHV.nrand(3)\n",
        "mexico, mexico_city, peso = BHV.nrand(3)\n",
        "\n",
        "USA = BHV.majority([name ^ united_states, capital_city ^ washington_dc, money ^ dollar])\n",
        "MEX = BHV.majority([name ^ mexico, capital_city ^ mexico_city, money ^ peso])\n",
        "\n",
        "Pair = USA ^ MEX"
      ],
      "metadata": {
        "id": "mATM38Evy6UQ"
      },
      "execution_count": null,
      "outputs": []
    },
    {
      "cell_type": "code",
      "source": [
        "# think about {\"name\": \"united_states\"}[\"name\"]\n",
        "\n",
        "assert (USA ^ name).related(united_states)"
      ],
      "metadata": {
        "id": "Uzf7cY1Mxbho"
      },
      "execution_count": null,
      "outputs": []
    },
    {
      "cell_type": "code",
      "source": [
        "dollar_of_mexico = dollar ^ Pair\n",
        "\n",
        "assert peso.related(dollar_of_mexico)\n",
        "assert peso.hamming(dollar_of_mexico) < dollar.hamming(dollar_of_mexico)"
      ],
      "metadata": {
        "id": "IWj0jhGq0KHt"
      },
      "execution_count": null,
      "outputs": []
    },
    {
      "cell_type": "code",
      "source": [
        "mexico_city_of_usa = mexico_city ^ Pair\n",
        "\n",
        "assert washington_dc.related(mexico_city_of_usa)\n",
        "assert washington_dc.hamming(mexico_city_of_usa) < mexico_city.hamming(mexico_city_of_usa)"
      ],
      "metadata": {
        "id": "HVrRGFdu57wA"
      },
      "execution_count": null,
      "outputs": []
    },
    {
      "cell_type": "markdown",
      "source": [
        "## transporting by a concept (XOR maintains relative operations)"
      ],
      "metadata": {
        "id": "6qyOiHSFxGIW"
      }
    },
    {
      "cell_type": "code",
      "source": [
        "focus = BHV.rand()\n",
        "unifocal = BHV.rand()\n",
        "bifocal = unifocal.flip_frac(0.2)\n",
        "\n",
        "shape = BHV.rand()\n",
        "flat = shape.flip_frac(0.2)\n",
        "round = shape.flip_frac(0.2)\n",
        "shape_twisting = shape.flip_frac(.2)\n",
        "\n",
        "shape, flat, round, point_symmetric = BHV.nrand(4)\n",
        "\n",
        "circle = BHV.majority([shape, flat, round, point_symmetric, focus ^ unifocal])\n",
        "oval = BHV.majority([shape, flat, round, focus ^ bifocal])"
      ],
      "metadata": {
        "id": "cJUZ48Q_5M7c"
      },
      "execution_count": null,
      "outputs": []
    },
    {
      "cell_type": "code",
      "source": [
        "def P(circle_, oval_, point_symmetric_, unifocal_, bifocal_):\n",
        "    assert circle_.related(oval_)\n",
        "    assert circle_.related(point_symmetric_)\n",
        "    assert not oval_.related(point_symmetric_)\n",
        "\n",
        "    assert (focus ^ oval_).hamming(unifocal_) > (focus ^ oval_).hamming(bifocal_)\n",
        "    assert (focus ^ circle_).hamming(unifocal_) < (focus ^ circle_).hamming(bifocal_)"
      ],
      "metadata": {
        "id": "eGKLBufqE1Ji"
      },
      "execution_count": null,
      "outputs": []
    },
    {
      "cell_type": "code",
      "source": [
        "P(circle, oval, point_symmetric, unifocal, bifocal)"
      ],
      "metadata": {
        "id": "yYBDS7MUAycy"
      },
      "execution_count": null,
      "outputs": []
    },
    {
      "cell_type": "code",
      "source": [
        "in_space = BHV.rand()\n",
        "\n",
        "P(circle ^ in_space, oval ^ in_space, point_symmetric ^ in_space, unifocal ^ in_space, bifocal ^ in_space)"
      ],
      "metadata": {
        "id": "Fvs0gQJoBHXZ"
      },
      "execution_count": null,
      "outputs": []
    },
    {
      "cell_type": "code",
      "source": [
        "assert not circle.related(circle ^ in_space)"
      ],
      "metadata": {
        "id": "ETPfcYuj_Orv"
      },
      "execution_count": null,
      "outputs": []
    },
    {
      "cell_type": "markdown",
      "source": [
        "## prototype based classification (MAJORITY acts a prototype)"
      ],
      "metadata": {
        "id": "ga1_J4QC6V6i"
      }
    },
    {
      "cell_type": "code",
      "source": [
        "center = BHV.rand()\n",
        "TL, TR, BL, BR = BHV.nrand(4)"
      ],
      "metadata": {
        "id": "S1DXTp_vxaxp"
      },
      "execution_count": null,
      "outputs": []
    },
    {
      "cell_type": "code",
      "source": [
        "def encode(x, y):\n",
        "    x_enc = BHV.random(x).select(TL, center) if x > 0 else BHV.random(-x).select(center, TR)\n",
        "    y_enc = BHV.random(y).select(BL, center) if y > 0 else BHV.random(-y).select(center, BR)\n",
        "    return BHV.majority([x_enc, y_enc])"
      ],
      "metadata": {
        "id": "BMVr7yQ_xiXc"
      },
      "execution_count": null,
      "outputs": []
    },
    {
      "cell_type": "code",
      "source": [
        "samples = 20\n",
        "test = 20"
      ],
      "metadata": {
        "id": "c9R7ENOHxctt"
      },
      "execution_count": null,
      "outputs": []
    },
    {
      "cell_type": "code",
      "source": [
        "in_sphere = []\n",
        "out_sphere = []\n",
        "test_in_sphere = []\n",
        "test_out_sphere = []\n",
        "for i in range(samples + test):\n",
        "    p = (random()*2 - 1, random()*2 - 1)\n",
        "    r = hypot(*p) < 1\n",
        "    if i >= samples:\n",
        "        if r: test_in_sphere.append(p)\n",
        "        else: test_out_sphere.append(p)\n",
        "    else:\n",
        "        if r: in_sphere.append(p)\n",
        "        else: out_sphere.append(p)\n",
        "\n",
        "\n",
        "pos = [encode(x, y) for x, y in in_sphere]\n",
        "neg = [encode(x, y) for x, y in out_sphere]\n",
        "test_pos = [encode(x, y) for x, y in test_in_sphere]\n",
        "test_neg = [encode(x, y) for x, y in test_out_sphere]\n",
        "\n",
        "sphere_prototype = BHV.majority(pos)\n",
        "rest_prototype = BHV.majority(neg)\n",
        "\n",
        "\n",
        "right = 0\n",
        "test_right = 0\n",
        "for i, p in enumerate(pos + neg + test_pos + test_neg):\n",
        "    prediction = p.closest([rest_prototype, sphere_prototype])\n",
        "    if i >= samples: test_right += prediction == (i < len(pos) + samples)\n",
        "    else: right += prediction == (i < len(test_pos))\n",
        "\n",
        "print(f\"train acc {right/samples}\")\n",
        "print(f\"test acc {test_right/test}\")"
      ],
      "metadata": {
        "colab": {
          "base_uri": "https://localhost:8080/"
        },
        "id": "JeTlu8Wh9th0",
        "outputId": "7584a730-1431-470e-cf75-8336c86a17fe"
      },
      "execution_count": null,
      "outputs": [
        {
          "output_type": "stream",
          "name": "stdout",
          "text": [
            "train acc 0.75\n",
            "test acc 0.45\n"
          ]
        }
      ]
    },
    {
      "cell_type": "markdown",
      "source": [
        "## learning from examples (inductive reasoning, grandmother example)"
      ],
      "metadata": {
        "id": "Shx3n_olZnRG"
      }
    },
    {
      "cell_type": "code",
      "source": [
        "# relation utility\n",
        "rel_subject = Perm.random()\n",
        "rel_object = Perm.random()\n",
        "\n",
        "# relations\n",
        "mother_of = BHV.rand()\n",
        "father_of = BHV.rand()\n",
        "grandmother_of = BHV.rand()"
      ],
      "metadata": {
        "id": "Npm_IDIlZx_m"
      },
      "execution_count": null,
      "outputs": []
    },
    {
      "cell_type": "code",
      "source": [
        "def apply_rel(rel, x, y):\n",
        "  sx = rel_subject(rel) ^ x\n",
        "  sy = rel_object(rel) ^ y\n",
        "  return BHV.majority([sx, sy])\n",
        "\n",
        "# our rule, read `xor` as \"implied by\" and `BHV.majority` as \"and\"\n",
        "# note this is applied to multiple \"datapoints\" ...\n",
        "def generate_sample():\n",
        "  person_x = BHV.rand()\n",
        "  person_y = BHV.rand()\n",
        "  person_z = BHV.rand()\n",
        "\n",
        "  mxy = apply_rel(mother_of, person_x, person_y)\n",
        "  fyz = apply_rel(father_of, person_y, person_z)\n",
        "  gxz = apply_rel(grandmother_of, person_x, person_z)\n",
        "\n",
        "  return gxz ^ BHV.majority([mxy, fyz])"
      ],
      "metadata": {
        "id": "3dHdxSHPZz78"
      },
      "execution_count": null,
      "outputs": []
    },
    {
      "cell_type": "code",
      "source": [
        "datapoints = [generate_sample() for _ in range(15)]\n",
        "grandmother_rule = BHV.majority(datapoints)\n",
        "# ... and averaged out for higher accuracy"
      ],
      "metadata": {
        "id": "MtNAo1-GZ34u"
      },
      "execution_count": null,
      "outputs": []
    },
    {
      "cell_type": "code",
      "source": [
        "# applying grandmother rule\"\n",
        "anna = BHV.rand()\n",
        "bill = BHV.rand()\n",
        "cid = BHV.rand()\n",
        "anna_mother_of_bill = apply_rel(mother_of, anna, bill)\n",
        "bill_father_of_cid = apply_rel(father_of, bill, cid)\n",
        "\n",
        "actual_anna_grandmother_of_cid = apply_rel(grandmother_of, anna, cid)\n",
        "\n",
        "calculated_anna_grandmother_of_cid = grandmother_rule ^ BHV.majority([anna_mother_of_bill, bill_father_of_cid])\n",
        "\n",
        "assert calculated_anna_grandmother_of_cid.related(actual_anna_grandmother_of_cid, stdvs=4)"
      ],
      "metadata": {
        "id": "jo_L6IJlZrMk"
      },
      "execution_count": null,
      "outputs": []
    },
    {
      "cell_type": "markdown",
      "source": [
        "## checking if objects are related in a certain way (asymmetric biases, not just a space)"
      ],
      "metadata": {
        "id": "LuUmNWwvaKyH"
      }
    },
    {
      "cell_type": "code",
      "source": [
        "def bias_ps(s, ps, o, frac=.2):\n",
        "    mps = BHV.majority(ps)\n",
        "    s_ = s.select_random(mps ^ o, 1. - frac)\n",
        "    o_ = o.select_random(mps ^ s, 1. - frac)\n",
        "    return s_, o_\n",
        "\n",
        "def measure_bias(x, rel, y):\n",
        "    rx = x.std_apart(rel)\n",
        "    ry = y.std_apart(rel)\n",
        "    return rx - ry"
      ],
      "metadata": {
        "id": "va04gbHbkpAm"
      },
      "execution_count": null,
      "outputs": []
    },
    {
      "cell_type": "code",
      "source": [
        "# property graph\n",
        "a, b, c, p, q, r = BHV.nrand(6)"
      ],
      "metadata": {
        "id": "_BvW4Kv0kr5g"
      },
      "execution_count": null,
      "outputs": []
    },
    {
      "cell_type": "code",
      "source": [
        "apq, cpq = bias_ps(a, [p, q], c)\n",
        "\n",
        "assert abs(apq.zscore()) < 4 and abs(apq.zscore()) < 4\n",
        "\n",
        "print(\"normal distance\", apq.std_apart(cpq, relative=True))\n",
        "print(\"bias\", measure_bias(apq, c ^ BHV.majority([p, q]), cpq))\n",
        "print(\"reverse bias\", measure_bias(cpq, c ^ BHV.majority([p, q]), apq))\n",
        "\n",
        "print(\"different relation\", measure_bias(cpq, c ^ BHV.majority([r]), apq))"
      ],
      "metadata": {
        "colab": {
          "base_uri": "https://localhost:8080/"
        },
        "id": "ZU7EUtPDaM1i",
        "outputId": "7f948757-6e5a-465f-8f2d-540292b0c304"
      },
      "execution_count": null,
      "outputs": [
        {
          "output_type": "stream",
          "name": "stdout",
          "text": [
            "normal distance 0.7071067811865475\n",
            "bias -8.043339635996972\n",
            "reverse bias 8.352698852766082\n",
            "different relation -0.04419417382416668\n"
          ]
        }
      ]
    },
    {
      "cell_type": "markdown",
      "source": [
        "## deduction logic (MAJ and XOR with negation)"
      ],
      "metadata": {
        "id": "mroO_Nmd8IHT"
      }
    },
    {
      "cell_type": "code",
      "source": [
        "raining, street_is_wet = BHV.nrand(2)"
      ],
      "metadata": {
        "id": "9zaq6-WyZX1h"
      },
      "execution_count": null,
      "outputs": []
    },
    {
      "cell_type": "code",
      "source": [
        "# If it's raining, then the street is wet.\n",
        "# It's raining.\n",
        "\n",
        "# Therefore, the street is wet."
      ],
      "metadata": {
        "id": "2w0hT0wvZaAS"
      },
      "execution_count": null,
      "outputs": []
    },
    {
      "cell_type": "code",
      "source": [
        "implication = raining ^ ~street_is_wet\n",
        "truth = raining\n",
        "conclusion = truth ^ implication\n",
        "\n",
        "assert not raining.related(conclusion)\n",
        "assert street_is_wet.related(conclusion)"
      ],
      "metadata": {
        "id": "No5mTPR2Zd-h"
      },
      "execution_count": null,
      "outputs": []
    },
    {
      "cell_type": "code",
      "source": [
        "implication = BHV.majority([~raining, street_is_wet])\n",
        "truth = BHV.majority([raining, BHV.rand()])\n",
        "conclusion = BHV.majority([implication, truth])\n",
        "\n",
        "assert not raining.related(conclusion)\n",
        "assert street_is_wet.related(conclusion)"
      ],
      "metadata": {
        "id": "0-xcMNXCZkrJ"
      },
      "execution_count": null,
      "outputs": []
    }
  ]
}